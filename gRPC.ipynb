{
  "nbformat": 4,
  "nbformat_minor": 0,
  "metadata": {
    "colab": {
      "provenance": [],
      "authorship_tag": "ABX9TyOojAdw4Zjz3ncXIuqM34Ab",
      "include_colab_link": true
    },
    "kernelspec": {
      "name": "python3",
      "display_name": "Python 3"
    },
    "language_info": {
      "name": "python"
    }
  },
  "cells": [
    {
      "cell_type": "markdown",
      "metadata": {
        "id": "view-in-github",
        "colab_type": "text"
      },
      "source": [
        "<a href=\"https://colab.research.google.com/github/saeidfarahan/Machine-Learning/blob/main/gRPC.ipynb\" target=\"_parent\"><img src=\"https://colab.research.google.com/assets/colab-badge.svg\" alt=\"Open In Colab\"/></a>"
      ]
    },
    {
      "cell_type": "code",
      "execution_count": 23,
      "metadata": {
        "colab": {
          "base_uri": "https://localhost:8080/"
        },
        "id": "tn2qKV8EUY8X",
        "outputId": "d41f0447-76ed-49ef-f526-803fd5da4307"
      },
      "outputs": [
        {
          "output_type": "stream",
          "name": "stdout",
          "text": [
            "Requirement already satisfied: grpcio in /usr/local/lib/python3.11/dist-packages (1.71.0)\n",
            "Requirement already satisfied: grpcio-tools in /usr/local/lib/python3.11/dist-packages (1.71.0)\n",
            "Requirement already satisfied: protobuf<6.0dev,>=5.26.1 in /usr/local/lib/python3.11/dist-packages (from grpcio-tools) (5.29.4)\n",
            "Requirement already satisfied: setuptools in /usr/local/lib/python3.11/dist-packages (from grpcio-tools) (75.2.0)\n"
          ]
        }
      ],
      "source": [
        "# نصب کتابخانه‌های gRPC برای ارتباط سرور و کلاینت\n",
        "!pip install grpcio grpcio-tools\n"
      ]
    },
    {
      "cell_type": "code",
      "source": [
        "# تعریف محتوای فایل proto (توضیح روش ارتباط سرور و کلاینت)\n",
        "proto_content = \"\"\"\n",
        "syntax = \"proto3\";\n",
        "\n",
        "package greet;\n",
        "\n",
        "// تعریف سرویسی با نام Greeter\n",
        "service Greeter {\n",
        "  // تابعی که کلاینت فراخوانی می‌کند\n",
        "  rpc SayHello (HelloRequest) returns (HelloReply) {}\n",
        "}\n",
        "\n",
        "// ساختار داده برای درخواست کلاینت (پیام ارسالی از کلاینت)\n",
        "message HelloRequest {\n",
        "  string name = 1;  // نام ارسالی از کلاینت\n",
        "}\n",
        "\n",
        "// ساختار داده برای پاسخ سرور (پیام ارسالی از سرور)\n",
        "message HelloReply {\n",
        "  string message = 1;  // متن خوشامدگویی بازگشتی از سرور\n",
        "}\n",
        "\"\"\"\n",
        "\n",
        "# ایجاد و نوشتن محتوای بالا در فایل greet.proto\n",
        "with open(\"greet.proto\", \"w\") as f:\n",
        "    f.write(proto_content)\n"
      ],
      "metadata": {
        "id": "wpUjviLrVBqI"
      },
      "execution_count": 24,
      "outputs": []
    },
    {
      "cell_type": "code",
      "source": [
        "# تولید کدهای پایتونی موردنیاز کلاینت و سرور از فایل greet.proto\n",
        "!python -m grpc_tools.protoc -I. --python_out=. --grpc_python_out=. greet.proto\n"
      ],
      "metadata": {
        "id": "s0r3k2FEVGGg"
      },
      "execution_count": 25,
      "outputs": []
    },
    {
      "cell_type": "code",
      "source": [
        "# کتابخانه‌های موردنیاز\n",
        "import grpc\n",
        "from concurrent import futures\n",
        "import greet_pb2\n",
        "import greet_pb2_grpc\n",
        "\n",
        "# تعریف کلاس سرور با ارث‌بری از کلاس تولیدشده توسط proto\n",
        "class GreeterServicer(greet_pb2_grpc.GreeterServicer):\n",
        "    # پیاده‌سازی تابع SayHello برای پاسخ به کلاینت‌ها\n",
        "    def SayHello(self, request, context):\n",
        "        # ارسال پاسخ به کلاینت\n",
        "        return greet_pb2.HelloReply(message=f'Hello, {request.name}! Welcome to gRPC.')\n",
        "\n",
        "# تابع اصلی اجرای سرور\n",
        "def serve():\n",
        "    # ساخت سرور با حداکثر ۱۰ thread برای پاسخ به درخواست‌ها\n",
        "    server = grpc.server(futures.ThreadPoolExecutor(max_workers=10))\n",
        "\n",
        "    # اضافه کردن سرویس GreeterServicer به سرور\n",
        "    greet_pb2_grpc.add_GreeterServicer_to_server(GreeterServicer(), server)\n",
        "\n",
        "    # مشخص کردن پورت 50051 برای شنود درخواست‌های ورودی\n",
        "    server.add_insecure_port('[::]:50051')\n",
        "\n",
        "    # اجرای سرور\n",
        "    server.start()\n",
        "    print(\"Server started on port 50051.\")\n",
        "\n",
        "    # منتظر ماندن سرور تا دریافت درخواست‌ها\n",
        "    server.wait_for_termination()\n",
        "\n",
        "# اجرای سرور در پس‌زمینه با استفاده از threading\n",
        "import threading\n",
        "server_thread = threading.Thread(target=serve, daemon=True)\n",
        "server_thread.start()\n"
      ],
      "metadata": {
        "colab": {
          "base_uri": "https://localhost:8080/"
        },
        "id": "TTD8BATMVKXE",
        "outputId": "fd82d69e-6612-443c-b801-80f2b753cc16"
      },
      "execution_count": 26,
      "outputs": [
        {
          "output_type": "stream",
          "name": "stdout",
          "text": [
            "Server started on port 50051.\n"
          ]
        }
      ]
    },
    {
      "cell_type": "code",
      "source": [
        "# واردکردن کتابخانه‌های gRPC\n",
        "import grpc\n",
        "import greet_pb2\n",
        "import greet_pb2_grpc\n",
        "\n",
        "# تعریف تابع کلاینت برای ارسال درخواست به سرور\n",
        "def run_client(name):\n",
        "    # ایجاد اتصال به سرور روی آدرس localhost و پورت 50051\n",
        "    channel = grpc.insecure_channel('localhost:50051')\n",
        "\n",
        "    # ایجاد Stub برای فراخوانی توابع سرور\n",
        "    stub = greet_pb2_grpc.GreeterStub(channel)\n",
        "\n",
        "    # فراخوانی تابع SayHello با ارسال نام به سرور و گرفتن پاسخ\n",
        "    response = stub.SayHello(greet_pb2.HelloRequest(name=name))\n",
        "\n",
        "    # نمایش پاسخ سرور\n",
        "    print(\"Server response:\", response.message)\n",
        "\n",
        "# فراخوانی کلاینت با ارسال نام \"Saeid\"\n",
        "run_client(\"SAEID\")\n"
      ],
      "metadata": {
        "colab": {
          "base_uri": "https://localhost:8080/"
        },
        "id": "yqHIscDGVOU3",
        "outputId": "cd35f7d6-06b6-4920-e5a7-eff34bd1dbb8"
      },
      "execution_count": 28,
      "outputs": [
        {
          "output_type": "stream",
          "name": "stdout",
          "text": [
            "Server response: Hello, SAEID! Welcome to gRPC.\n"
          ]
        }
      ]
    }
  ]
}